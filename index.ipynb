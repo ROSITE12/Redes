{
  "cells": [
    {
      "cell_type": "markdown",
      "metadata": {
        "id": "t804ku3dKoXt"
      },
      "source": [
        "<img src=\"https://i.imgur.com/6U6q5jQ.png\"/>\n",
        "\n",
        "\n",
        "\n",
        "\n",
        "\n",
        "<a target=\"_blank\" href=\"https://colab.research.google.com/github/SocialAnalytics-StrategicIntelligence/introGraph/blob/main/index.ipynb\">\n",
        "  <img src=\"https://colab.research.google.com/assets/colab-badge.svg\" alt=\"Open In Colab\"/>\n",
        "</a>\n",
        "\n",
        "# Graphs\n",
        "\n",
        "Let me show you a graph (from [wikipedia](https://en.wikipedia.org/wiki/Graph_(discrete_mathematics))):\n",
        "\n",
        "<img src=\"https://upload.wikimedia.org/wikipedia/commons/thumb/5/5b/6n-graf.svg/440px-6n-graf.svg.png\"/>\n",
        "\n",
        "Grafo: Un grafo es una estructura que consiste en:\n",
        "- Un conjunto de vértices o nodos: Son los puntos o entidades individuales que componen el grafo. En el ejemplo mencionado, los nodos están etiquetados como 1, 2, 3, 4, 5 y 6.\n",
        "- Un conjunto de aristas o enlaces: Son las conexiones entre los nodos. En el ejemplo, estas aristas representan las relaciones entre los nodos (como si fueran líneas que los unen).\n",
        "- Relación: Un grafo muestra cómo se relacionan los nodos entre sí, lo que nos permite analizar y entender patrones o estructuras subyacentes en los datos que representan.\n",
        "- Uso en Python: Para crear y manipular grafos computacionalmente en Python, se suele utilizar la biblioteca networkx, que proporciona herramientas para crear nodos y aristas, y analizar la estructura y propiedades de los grafos.\n",
        "\n",
        "En resumen, la idea es que un grafo es una representación visual y estructural de las conexiones entre entidades (nodos) y sus relaciones (aristas). Esto se puede implementar fácilmente en Python con la biblioteca networkx."
      ]
    },
    {
      "cell_type": "code",
      "execution_count": 1,
      "metadata": {
        "id": "wh4nqgIeKoXv"
      },
      "outputs": [],
      "source": [
        "import networkx as nx\n",
        "\n",
        "# create graph\n",
        "G = nx.Graph()\n",
        "\n",
        "# create nodes and edges\n",
        "G.add_edges_from([(1, 2), (1, 5),(2,5),(2,3),(3,4),(4,5),(4,6)])"
      ]
    },
    {
      "cell_type": "markdown",
      "metadata": {},
      "source": [
        "\n",
        "## Explicación del Código\n",
        "\n",
        "1. **Importación de la biblioteca**:\n",
        "   - `import networkx as nx`: Se importa la biblioteca `networkx`, que se utilizará para crear y manipular grafos.\n",
        "\n",
        "2. **Creación del grafo**:\n",
        "   - `G = nx.Graph()`: Se crea un **grafo vacío** llamado `G` usando la clase `Graph` de `networkx`. Este grafo es **no dirigido**, es decir, las aristas no tienen dirección (las conexiones son bidireccionales).\n",
        "\n",
        "3. **Agregar aristas (y nodos)**:\n",
        "   - `G.add_edges_from(...)`: Se agregan aristas al grafo `G` mediante el método `add_edges_from()`.\n",
        "   - Cada arista se define como una tupla `(nodo1, nodo2)` que indica una conexión entre los dos nodos.\n",
        "\n",
        "   - Aristas agregadas en el ejemplo:\n",
        "     - `(1, 2)` conecta los nodos 1 y 2.\n",
        "     - `(1, 5)` conecta los nodos 1 y 5.\n",
        "     - `(2, 5)` conecta los nodos 2 y 5.\n",
        "     - `(2, 3)` conecta los nodos 2 y 3.\n",
        "     - `(3, 4)` conecta los nodos 3 y 4.\n",
        "     - `(4, 5)` conecta los nodos 4 y 5.\n",
        "     - `(4, 6)` conecta los nodos 4 y 6.\n",
        "\n",
        "   Al agregar estas aristas, automáticamente se crean los **nodos** correspondientes si aún no existían en el grafo.\n",
        "\n",
        "## Visualización y Estructura del Grafo\n",
        "El grafo `G` resultante contiene los siguientes elementos:\n",
        "\n",
        "- **Nodos**: `{1, 2, 3, 4, 5, 6}`\n",
        "- **Aristas**: `{(1, 2), (1, 5), (2, 5), (2, 3), (3, 4), (4, 5), (4, 6)}`\n",
        "\n",
        "Esto nos muestra cómo los nodos están conectados entre sí y la estructura del grafo en términos de relaciones entre elementos."
      ]
    },
    {
      "cell_type": "markdown",
      "metadata": {
        "id": "8i5ca5hOKoYF"
      },
      "source": [
        "## Basic Elements"
      ]
    },
    {
      "cell_type": "markdown",
      "metadata": {
        "id": "et1WPLZyKoYG"
      },
      "source": [
        "**G** is the graph:"
      ]
    },
    {
      "cell_type": "code",
      "execution_count": 2,
      "metadata": {
        "id": "NqpHmDt2KoYH"
      },
      "outputs": [
        {
          "data": {
            "text/plain": [
              "<networkx.classes.graph.Graph at 0x2b14aab6ea0>"
            ]
          },
          "execution_count": 2,
          "metadata": {},
          "output_type": "execute_result"
        }
      ],
      "source": [
        "#you don't see much...just what it is:\n",
        "G"
      ]
    },
    {
      "cell_type": "code",
      "execution_count": 3,
      "metadata": {
        "id": "CVxq5RU-KoYH"
      },
      "outputs": [
        {
          "data": {
            "text/plain": [
              "NodeDataView({1: {}, 2: {}, 5: {}, 3: {}, 4: {}, 6: {}})"
            ]
          },
          "execution_count": 3,
          "metadata": {},
          "output_type": "execute_result"
        }
      ],
      "source": [
        "# You see nodes\n",
        "G.nodes.data()"
      ]
    },
    {
      "cell_type": "markdown",
      "metadata": {},
      "source": [
        "significa que tu grafo G contiene los nodos {1, 2, 3, 4, 5, 6}, pero ninguno de ellos tiene atributos adicionales asociados.\n",
        "Desglose del Resultado\n",
        "\n",
        "- NodeDataView es una vista que proporciona networkx para mostrar la información de los nodos del grafo.\n",
        "- Cada nodo (por ejemplo, 1, 2, 3, 4, 5, 6) aparece con {} a su lado. Esto indica que no tienen ningún atributo asociado. El diccionario vacío {} representa que no se ha agregado información adicional a esos nodos."
      ]
    },
    {
      "cell_type": "code",
      "execution_count": 4,
      "metadata": {
        "id": "cHMepPqfKoYI"
      },
      "outputs": [
        {
          "data": {
            "text/plain": [
              "NodeView((1, 2, 5, 3, 4, 6))"
            ]
          },
          "execution_count": 4,
          "metadata": {},
          "output_type": "execute_result"
        }
      ],
      "source": [
        "# Esta es una forma simple de verificar cuáles son los nodos que existen actualmente en el grafo.\n",
        "G.nodes()"
      ]
    },
    {
      "cell_type": "code",
      "execution_count": 5,
      "metadata": {
        "id": "LvWtj_HRKoYI"
      },
      "outputs": [
        {
          "data": {
            "text/plain": [
              "ValuesView(NodeView((1, 2, 5, 3, 4, 6)))"
            ]
          },
          "execution_count": 5,
          "metadata": {},
          "output_type": "execute_result"
        }
      ],
      "source": [
        "# similar que la otra función\n",
        "G.nodes().values()"
      ]
    },
    {
      "cell_type": "code",
      "execution_count": 6,
      "metadata": {
        "id": "UqVWHiCzKoYK"
      },
      "outputs": [
        {
          "data": {
            "text/plain": [
              "EdgeView([(1, 2), (1, 5), (2, 5), (2, 3), (5, 4), (3, 4), (4, 6)])"
            ]
          },
          "execution_count": 6,
          "metadata": {},
          "output_type": "execute_result"
        }
      ],
      "source": [
        "# muestra las aristas (o conexiones) existentes en el grafo G. Es una forma rápida de verificar qué nodos están conectados entre sí \n",
        "G.edges()"
      ]
    },
    {
      "cell_type": "code",
      "execution_count": 7,
      "metadata": {
        "id": "bdVWI7u3KoY4"
      },
      "outputs": [
        {
          "data": {
            "text/plain": [
              "ItemsView(EdgeView([(1, 2), (1, 5), (2, 5), (2, 3), (5, 4), (3, 4), (4, 6)]))"
            ]
          },
          "execution_count": 7,
          "metadata": {},
          "output_type": "execute_result"
        }
      ],
      "source": [
        "# You see edges items\n",
        "G.edges().items()"
      ]
    },
    {
      "cell_type": "markdown",
      "metadata": {
        "id": "FjYJuTZBKoY5"
      },
      "source": [
        "## Drawing"
      ]
    },
    {
      "cell_type": "markdown",
      "metadata": {
        "id": "8EsGisgdKoY5"
      },
      "source": [
        "As you can see, the graph is created by adding pairs of nodes. Once you complete that stage, you can draw the graph:"
      ]
    },
    {
      "cell_type": "code",
      "execution_count": 8,
      "metadata": {
        "id": "ySZ8jBOJKoY6"
      },
      "outputs": [
        {
          "data": {
            "image/png": "[encoded data removed]",
            "text/plain": [
              "<Figure size 640x480 with 1 Axes>"
            ]
          },
          "metadata": {},
          "output_type": "display_data"
        }
      ],
      "source": [
        "# draw\n",
        "nx.draw(G=G,\n",
        "        with_labels=True,\n",
        "        node_color='yellow',\n",
        "        edgecolors='black')"
      ]
    },
    {
      "cell_type": "markdown",
      "metadata": {},
      "source": [
        "Explicación de la Función nx.draw()\n",
        "\n",
        "- G=G: Especifica que el grafo a dibujar es G. El parámetro G es el nombre de tu grafo que creaste anteriormente (puede ser cualquier otro nombre que le hayas asignado al grafo).\n",
        "- with_labels=True: Esta opción le indica a networkx que muestre las etiquetas de los nodos en la visualización. Si está configurado como True, cada nodo aparecerá con su identificador (por ejemplo, 1, 2, 3, ...) o con la etiqueta que le hayas asignado como nombre.\n",
        "- node_color='yellow': Define el color de los nodos del grafo. En este caso, todos los nodos se mostrarán en color amarillo. Puedes cambiarlo a cualquier otro color como 'red', 'blue', 'green', etc.\n",
        "- edgecolors='black': Especifica el color de los bordes de los nodos. En este caso, los bordes de los nodos se dibujarán en color negro. Esto permite resaltar los nodos si tienen un color de relleno distinto."
      ]
    },
    {
      "cell_type": "code",
      "execution_count": null,
      "metadata": {
        "id": "Pv2aaanbKoY6"
      },
      "outputs": [],
      "source": [
        "# do you have it?\n",
        "# pip show pyvis"
      ]
    },
    {
      "cell_type": "markdown",
      "metadata": {
        "id": "k7Eion2MKoY6"
      },
      "source": [
        "Notice that the position of the nodes will vary every time you re draw the graph. In fact, drawing a graph can become a challenge by itself when we need to find information via visualization.\n",
        "\n",
        "Cada vez que llamas a **nx.draw()** sin especificar las posiciones de los nodos, networkx utiliza un algoritmo de disposición automática para determinar dónde se dibujará cada nodo en el gráfico. Este algoritmo intenta organizar los nodos de manera que el grafo se vea lo más claro posible.\n",
        "Como resultado, la ubicación de los nodos cambia en cada redibujado porque el algoritmo se ejecuta nuevamente y puede producir posiciones diferentes.\n",
        "\n",
        "## Interaction with Pyvis\n",
        "\n",
        "Pyvis uses color, size, label and title attributes."
      ]
    },
    {
      "cell_type": "code",
      "execution_count": 9,
      "metadata": {
        "id": "iuU_YhbQKoY7"
      },
      "outputs": [
        {
          "data": {
            "text/plain": [
              "{1: '1', 2: '2', 5: '5', 3: '3', 4: '4', 6: '6'}"
            ]
          },
          "execution_count": 9,
          "metadata": {},
          "output_type": "execute_result"
        }
      ],
      "source": [
        "# dict of labels\n",
        "labels={i:str(i) for i in G.nodes()}\n",
        "labels # string as label"
      ]
    },
    {
      "cell_type": "markdown",
      "metadata": {},
      "source": [
        "\n",
        "\n",
        "1. `G.nodes()` - Esto parece referirse a los nodos de un grafo G. Probablemente G es un objeto de grafo creado usando una biblioteca como NetworkX.\n",
        "\n",
        "2. `{i:str(i) for i in G.nodes()}` - Esta es una comprensión de diccionario. Crea un diccionario donde:\n",
        "   - Las claves son los nodos del grafo (i)\n",
        "   - Los valores son las representaciones en cadena (string) de esos nodos (str(i))\n",
        "\n",
        "3. `labels={i:str(i) for i in G.nodes()}` - Esto asigna el diccionario creado a una variable llamada `labels`.\n",
        "\n",
        "4. `labels # string as label` - Este es un comentario que indica que se están usando cadenas como etiquetas.\n",
        "\n",
        "En resumen, este código crea un diccionario donde cada nodo del grafo G se mapea a su representación en cadena. Esto es útil cuando se quiere etiquetar los nodos de un grafo con sus propios valores, pero asegurándose de que las etiquetas sean cadenas.\n",
        "\n",
        "Por ejemplo, si los nodos del grafo son los números 1, 2, 3, el diccionario `labels` sería:\n",
        "```python\n",
        "{1: '1', 2: '2', 3: '3'}\n",
        "```\n",
        "\n",
        "Esto puede ser útil para visualización de grafos, donde las etiquetas deben ser cadenas, ya que se utiliza para representar texto"
      ]
    },
    {
      "cell_type": "code",
      "execution_count": 10,
      "metadata": {
        "id": "7Qu9taJiKoY7"
      },
      "outputs": [
        {
          "data": {
            "text/plain": [
              "NodeDataView({1: {'label': '1', 'color': 'red'}, 2: {'label': '2', 'color': 'red'}, 5: {'label': '5', 'color': 'red'}, 3: {'label': '3', 'color': 'red'}, 4: {'label': '4', 'color': 'red'}, 6: {'label': '6', 'color': 'red'}})"
            ]
          },
          "execution_count": 10,
          "metadata": {},
          "output_type": "execute_result"
        }
      ],
      "source": [
        "nx.set_node_attributes(G,labels,'label') # values according to id\n",
        "nx.set_node_attributes(G,'red','color') # for all\n",
        "G.nodes.data()"
      ]
    },
    {
      "cell_type": "markdown",
      "metadata": {},
      "source": [
        "**nx.set_node_attributes(G,labels,'label')**\n",
        "\n",
        "- Esta función establece atributos para los nodos del grafo G.\n",
        "- labels es el diccionario que creamos antes, donde cada nodo tiene una etiqueta.\n",
        "- 'label' es el nombre del atributo que estamos asignando.\n",
        "- Esto asigna a cada nodo una etiqueta según su id.\n",
        "\n",
        "**nx.set_node_attributes(G,'red','color')**\n",
        "\n",
        "- Similar a la anterior, pero aquí estamos asignando el mismo valor ('red') a todos los nodos.\n",
        "- 'color' es el nombre del atributo. Esto colorea todos los nodos de rojo.\n",
        "\n",
        "**G.nodes.data()**\n",
        "\n",
        "Esta línea devuelve una vista de los datos de todos los nodos.\n",
        "Muestra todos los atributos que hemos asignado a los nodos."
      ]
    },
    {
      "cell_type": "code",
      "execution_count": 12,
      "metadata": {},
      "outputs": [
        {
          "name": "stdout",
          "output_type": "stream",
          "text": [
            "Collecting pyvis\n",
            "  Downloading pyvis-0.3.2-py3-none-any.whl.metadata (1.7 kB)\n",
            "Requirement already satisfied: ipython>=5.3.0 in c:\\users\\maria\\appdata\\roaming\\python\\python312\\site-packages (from pyvis) (8.27.0)\n",
            "Requirement already satisfied: jinja2>=2.9.6 in c:\\users\\maria\\appdata\\local\\programs\\python\\python312\\lib\\site-packages (from pyvis) (3.1.4)\n",
            "Collecting jsonpickle>=1.4.1 (from pyvis)\n",
            "  Downloading jsonpickle-3.3.0-py3-none-any.whl.metadata (8.3 kB)\n",
            "Requirement already satisfied: networkx>=1.11 in c:\\users\\maria\\appdata\\local\\programs\\python\\python312\\lib\\site-packages (from pyvis) (3.3)\n",
            "Requirement already satisfied: decorator in c:\\users\\maria\\appdata\\roaming\\python\\python312\\site-packages (from ipython>=5.3.0->pyvis) (5.1.1)\n",
            "Requirement already satisfied: jedi>=0.16 in c:\\users\\maria\\appdata\\roaming\\python\\python312\\site-packages (from ipython>=5.3.0->pyvis) (0.19.1)\n",
            "Requirement already satisfied: matplotlib-inline in c:\\users\\maria\\appdata\\roaming\\python\\python312\\site-packages (from ipython>=5.3.0->pyvis) (0.1.7)\n",
            "Requirement already satisfied: prompt-toolkit<3.1.0,>=3.0.41 in c:\\users\\maria\\appdata\\roaming\\python\\python312\\site-packages (from ipython>=5.3.0->pyvis) (3.0.47)\n",
            "Requirement already satisfied: pygments>=2.4.0 in c:\\users\\maria\\appdata\\roaming\\python\\python312\\site-packages (from ipython>=5.3.0->pyvis) (2.18.0)\n",
            "Requirement already satisfied: stack-data in c:\\users\\maria\\appdata\\roaming\\python\\python312\\site-packages (from ipython>=5.3.0->pyvis) (0.6.3)\n",
            "Requirement already satisfied: traitlets>=5.13.0 in c:\\users\\maria\\appdata\\roaming\\python\\python312\\site-packages (from ipython>=5.3.0->pyvis) (5.14.3)\n",
            "Requirement already satisfied: colorama in c:\\users\\maria\\appdata\\roaming\\python\\python312\\site-packages (from ipython>=5.3.0->pyvis) (0.4.6)\n",
            "Requirement already satisfied: MarkupSafe>=2.0 in c:\\users\\maria\\appdata\\local\\programs\\python\\python312\\lib\\site-packages (from jinja2>=2.9.6->pyvis) (2.1.5)\n",
            "Requirement already satisfied: parso<0.9.0,>=0.8.3 in c:\\users\\maria\\appdata\\roaming\\python\\python312\\site-packages (from jedi>=0.16->ipython>=5.3.0->pyvis) (0.8.4)\n",
            "Requirement already satisfied: wcwidth in c:\\users\\maria\\appdata\\roaming\\python\\python312\\site-packages (from prompt-toolkit<3.1.0,>=3.0.41->ipython>=5.3.0->pyvis) (0.2.13)\n",
            "Requirement already satisfied: executing>=1.2.0 in c:\\users\\maria\\appdata\\roaming\\python\\python312\\site-packages (from stack-data->ipython>=5.3.0->pyvis) (2.1.0)\n",
            "Requirement already satisfied: asttokens>=2.1.0 in c:\\users\\maria\\appdata\\roaming\\python\\python312\\site-packages (from stack-data->ipython>=5.3.0->pyvis) (2.4.1)\n",
            "Requirement already satisfied: pure-eval in c:\\users\\maria\\appdata\\roaming\\python\\python312\\site-packages (from stack-data->ipython>=5.3.0->pyvis) (0.2.3)\n",
            "Requirement already satisfied: six>=1.12.0 in c:\\users\\maria\\appdata\\roaming\\python\\python312\\site-packages (from asttokens>=2.1.0->stack-data->ipython>=5.3.0->pyvis) (1.16.0)\n",
            "Downloading pyvis-0.3.2-py3-none-any.whl (756 kB)\n",
            "   ---------------------------------------- 0.0/756.0 kB ? eta -:--:--\n",
            "   --------------------------- ------------ 524.3/756.0 kB 5.6 MB/s eta 0:00:01\n",
            "   ---------------------------------------- 756.0/756.0 kB 2.3 MB/s eta 0:00:00\n",
            "Downloading jsonpickle-3.3.0-py3-none-any.whl (42 kB)\n",
            "Installing collected packages: jsonpickle, pyvis\n",
            "Successfully installed jsonpickle-3.3.0 pyvis-0.3.2\n"
          ]
        }
      ],
      "source": [
        "!pip install pyvis"
      ]
    },
    {
      "cell_type": "code",
      "execution_count": 13,
      "metadata": {
        "id": "6n6A3YWuKoY8"
      },
      "outputs": [
        {
          "name": "stdout",
          "output_type": "stream",
          "text": [
            "Gvis.html\n"
          ]
        },
        {
          "data": {
            "text/html": [
              "\n",
              "        <iframe\n",
              "            width=\"500px\"\n",
              "            height=\"500px\"\n",
              "            src=\"Gvis.html\"\n",
              "            frameborder=\"0\"\n",
              "            allowfullscreen\n",
              "            \n",
              "        ></iframe>\n",
              "        "
            ],
            "text/plain": [
              "<IPython.lib.display.IFrame at 0x2b15b3bb650>"
            ]
          },
          "execution_count": 13,
          "metadata": {},
          "output_type": "execute_result"
        }
      ],
      "source": [
        "# toma un grafo de NetworkX, lo convierte a un formato compatible con pyvis\n",
        "from pyvis.network import Network\n",
        "\n",
        "Gvis = Network('500px', '500px',notebook=True,cdn_resources='remote')\n",
        "Gvis.from_nx(G.copy()) # create a copy!\n",
        "Gvis.show('Gvis.html')"
      ]
    },
    {
      "cell_type": "markdown",
      "metadata": {},
      "source": [
        "Claro, te explicaré cada línea de código:\n",
        "\n",
        "1. `from pyvis.network import Network`\n",
        "   - Esta línea importa la clase Network de la biblioteca pyvis.\n",
        "   - pyvis es una biblioteca de Python que permite crear visualizaciones interactivas de redes y grafos.\n",
        "\n",
        "2. `Gvis = Network('500px', '500px', notebook=True, cdn_resources='remote')`\n",
        "   - Crea una nueva instancia de Network llamada Gvis.\n",
        "   - '500px', '500px': Establece el ancho y alto de la visualización a 500 píxeles.\n",
        "   - notebook=True: Indica que se está trabajando en un entorno de notebook (como Jupyter).\n",
        "   - cdn_resources='remote': Especifica que los recursos (como archivos JS y CSS) se cargarán desde un CDN remoto.\n",
        "\n",
        "3. `Gvis.from_nx(G.copy())`\n",
        "   - Convierte el grafo NetworkX (G) a un formato compatible con pyvis.\n",
        "   - G.copy(): Crea una copia del grafo original. Esto es importante para evitar modificar el grafo original.\n",
        "   - La función from_nx() toma esta copia y la convierte al formato de pyvis.\n",
        "\n",
        "4. `Gvis.show('Gvis.html')`\n",
        "   - Genera y guarda la visualización del grafo en un archivo HTML llamado 'Gvis.html'.\n",
        "   - Este archivo HTML contendrá una representación interactiva del grafo.\n",
        "   - Si estás en un notebook, también mostrará la visualización directamente en el notebook.\n",
        "\n",
        "En resumen, este código toma un grafo de NetworkX, lo convierte a un formato compatible con pyvis, y luego crea una visualización interactiva de ese grafo en HTML. Esta visualización te permitirá explorar el grafo de manera dinámica, con funciones como zoom, arrastre de nodos, y posiblemente información sobre los nodos al hacer clic en ellos."
      ]
    },
    {
      "cell_type": "markdown",
      "metadata": {
        "id": "BqvnylQ6KoY8"
      },
      "source": [
        "\n",
        "### Dirección de Aristas\n",
        "\n",
        "El grafo que creamos y dibujamos representa un grafo **no dirigido**, es decir, las relaciones entre un par de nodos son **simétricas**: las relaciones no pueden representar dirección porque son _inherentemente mutuas_ entre los nodos. Por ejemplo, la relación *ser vecino de* es simétrica.\n",
        "\n",
        "#### Grafo Dirigido\n",
        "\n",
        "El siguiente grafo es **dirigido** (también tomado de Wikipedia):\n",
        "\n",
        "- En un grafo dirigido, las aristas tienen una **dirección** que indica el sentido de la relación entre los nodos. Esto significa que, a diferencia del grafo no dirigido, donde la relación es mutua, en un grafo dirigido puede existir una relación unidireccional.\n",
        "- Por ejemplo, en una relación de *seguir a* en redes sociales, una persona puede seguir a otra sin que esta la siga de vuelta, lo que ilustra una relación asimétrica.\n",
        "\n",
        "### Resumen\n",
        "\n",
        "- **Grafo No Dirigido**: Relaciones simétricas; ambos nodos están conectados sin dirección.\n",
        "- **Grafo Dirigido**: Relaciones asimétricas; las aristas tienen una dirección que indica la relación entre los nodos.\n",
        "\n",
        "Este concepto de dirección en los grafos es fundamental para modelar diversas situaciones en teoría de grafos, redes sociales, y otras aplicaciones donde las relaciones entre elementos no son siempre recíprocas.\n",
        "\n",
        "\n",
        "\n",
        "<img src=\"https://upload.wikimedia.org/wikipedia/commons/thumb/2/23/Directed_graph_no_background.svg/340px-Directed_graph_no_background.svg.png\"/>\n"
      ]
    },
    {
      "cell_type": "markdown",
      "metadata": {
        "id": "Y5s8jvmvKoY8"
      },
      "source": [
        "You can create this directed graph this way:"
      ]
    },
    {
      "cell_type": "code",
      "execution_count": 14,
      "metadata": {
        "id": "WGAJto7EKoY8"
      },
      "outputs": [
        {
          "data": {
            "image/png": "[encoded data removed]",
            "text/plain": [
              "<Figure size 640x480 with 1 Axes>"
            ]
          },
          "metadata": {},
          "output_type": "display_data"
        }
      ],
      "source": [
        "# create DIRECTED graph\n",
        "dG = nx.DiGraph()\n",
        "\n",
        "# create nodes and edges\n",
        "dG.add_edges_from([(1, 2), (1, 3),(3,2),(3,4),(4,3)])\n",
        "\n",
        "# drawing\n",
        "nx.draw(dG,with_labels=True,node_color='white',edgecolors='black')"
      ]
    },
    {
      "cell_type": "markdown",
      "metadata": {
        "id": "LoslVgrAKoY9"
      },
      "source": [
        "Los enlaces dirigidos también se llaman arcos. Observa que el DiGraph creado representa una relación asimétrica: la relación que un nodo tiene con otro nodo no necesita ser mutua, aunque podría serlo (ver nodos 3 y 4). Si los arcos representan cuidar de alguien, muestra que el sentimiento no es recíproco en la mayoría de los casos en este grafo. Si una relación no es mutua y puede estar en una sola dirección, se llama antisymétrica.\n",
        "\n",
        "## Attributes\n",
        "\n",
        "Nodes can have attributes: son propiedades o características que se pueden asignar a los nodos y/o aristas. Estos atributos permiten almacenar información adicional sobre cada elemento del grafo, lo que puede ser útil para análisis más complejos y visualización. "
      ]
    },
    {
      "cell_type": "code",
      "execution_count": 15,
      "metadata": {
        "id": "Ou2PKTMMKoY9"
      },
      "outputs": [],
      "source": [
        "# adding attributes\n",
        "dG.nodes[1][\"sex\"]='male'\n",
        "dG.nodes[2][\"sex\"]='male'\n",
        "dG.nodes[3][\"sex\"]='female'\n",
        "dG.nodes[4][\"sex\"]='female'"
      ]
    },
    {
      "cell_type": "code",
      "execution_count": 16,
      "metadata": {
        "id": "_VBFIhvfKoY9"
      },
      "outputs": [
        {
          "data": {
            "text/plain": [
              "{1: 'male', 2: 'male', 3: 'female', 4: 'female'}"
            ]
          },
          "execution_count": 16,
          "metadata": {},
          "output_type": "execute_result"
        }
      ],
      "source": [
        "# seeing attributes\n",
        "nx.get_node_attributes(dG, \"sex\")"
      ]
    },
    {
      "cell_type": "markdown",
      "metadata": {
        "id": "bnijW7BsKoY9"
      },
      "source": [
        "Set the color of the node based on sex:"
      ]
    },
    {
      "cell_type": "code",
      "execution_count": 17,
      "metadata": {
        "id": "j5NwFzePKoY-"
      },
      "outputs": [
        {
          "data": {
            "text/plain": [
              "dict_items([(1, 'male'), (2, 'male'), (3, 'female'), (4, 'female')])"
            ]
          },
          "execution_count": 17,
          "metadata": {},
          "output_type": "execute_result"
        }
      ],
      "source": [
        "# requesting items to iterate\n",
        "nx.get_node_attributes(dG, \"sex\").items()"
      ]
    },
    {
      "cell_type": "code",
      "execution_count": 18,
      "metadata": {
        "id": "eqMv4wgtKoY-"
      },
      "outputs": [
        {
          "data": {
            "text/plain": [
              "{1: 'blue', 2: 'blue', 3: 'red', 4: 'red'}"
            ]
          },
          "execution_count": 18,
          "metadata": {},
          "output_type": "execute_result"
        }
      ],
      "source": [
        "# then rojo si es mujer y azul si \n",
        "{i:'red' if v=='female' else 'blue' for i,v in nx.get_node_attributes(dG, \"sex\").items()}"
      ]
    },
    {
      "cell_type": "code",
      "execution_count": 19,
      "metadata": {
        "id": "zSlDq-9hKoY-"
      },
      "outputs": [
        {
          "data": {
            "text/plain": [
              "NodeDataView({1: {'sex': 'male', 'color': 'blue'}, 2: {'sex': 'male', 'color': 'blue'}, 3: {'sex': 'female', 'color': 'red'}, 4: {'sex': 'female', 'color': 'red'}})"
            ]
          },
          "execution_count": 19,
          "metadata": {},
          "output_type": "execute_result"
        }
      ],
      "source": [
        "# so...\n",
        "colors={i:'red' if v=='female' else 'blue' for i,v in nx.get_node_attributes(dG, \"sex\").items()}\n",
        "\n",
        "# set color\n",
        "nx.set_node_attributes(dG, colors, \"color\")\n",
        "dG.nodes.data()"
      ]
    },
    {
      "cell_type": "code",
      "execution_count": 20,
      "metadata": {
        "id": "McIIM8_QKoY_"
      },
      "outputs": [
        {
          "data": {
            "text/plain": [
              "dict_values(['blue', 'blue', 'red', 'red'])"
            ]
          },
          "execution_count": 20,
          "metadata": {},
          "output_type": "execute_result"
        }
      ],
      "source": [
        "# since\n",
        "nx.get_node_attributes(dG, \"color\").values()"
      ]
    },
    {
      "cell_type": "markdown",
      "metadata": {
        "id": "vLGA5IZpKoY_"
      },
      "source": [
        "Attributes can serve for some computational purposes, but also help to visually find structures."
      ]
    },
    {
      "cell_type": "code",
      "execution_count": 21,
      "metadata": {
        "id": "yYQLQ7WkKoY_"
      },
      "outputs": [
        {
          "data": {
            "image/png": "[encoded data removed]",
            "text/plain": [
              "<Figure size 640x480 with 1 Axes>"
            ]
          },
          "metadata": {},
          "output_type": "display_data"
        }
      ],
      "source": [
        "# using node attributes\n",
        "\n",
        "nx.draw(dG,\n",
        "        with_labels=True,\n",
        "        node_color=nx.get_node_attributes(dG, \"color\").values())"
      ]
    },
    {
      "cell_type": "markdown",
      "metadata": {
        "id": "739x-NQkKoY_"
      },
      "source": [
        "Of course, edges can have attributes too:"
      ]
    },
    {
      "cell_type": "code",
      "execution_count": 22,
      "metadata": {
        "id": "cvvyygccKoY_"
      },
      "outputs": [],
      "source": [
        "dG.edges[(1, 2)]['weight']=1\n",
        "dG.edges[(1, 3)]['weight']=3\n",
        "dG.edges[(3, 2)]['weight']=5\n",
        "dG.edges[(3, 4)]['weight']=10\n",
        "dG.edges[(4, 3)]['weight']=0.5"
      ]
    },
    {
      "cell_type": "code",
      "execution_count": 23,
      "metadata": {
        "id": "LtQy5HgrKoZA"
      },
      "outputs": [
        {
          "data": {
            "text/plain": [
              "OutEdgeDataView([(1, 2, {'weight': 1}), (1, 3, {'weight': 3}), (3, 2, {'weight': 5}), (3, 4, {'weight': 10}), (4, 3, {'weight': 0.5})])"
            ]
          },
          "execution_count": 23,
          "metadata": {},
          "output_type": "execute_result"
        }
      ],
      "source": [
        "# see them\n",
        "dG.edges.data()"
      ]
    },
    {
      "cell_type": "markdown",
      "metadata": {
        "id": "ikumnQVuKoZA"
      },
      "source": [
        "Let me add another attribute conditional on another attribute:"
      ]
    },
    {
      "cell_type": "code",
      "execution_count": 24,
      "metadata": {
        "id": "zVmgh5dHKoZA"
      },
      "outputs": [
        {
          "data": {
            "text/plain": [
              "{(1, 2): 'magenta',\n",
              " (1, 3): 'grey',\n",
              " (3, 2): 'grey',\n",
              " (3, 4): 'grey',\n",
              " (4, 3): 'magenta'}"
            ]
          },
          "execution_count": 24,
          "metadata": {},
          "output_type": "execute_result"
        }
      ],
      "source": [
        "# if\n",
        "{i:'magenta' if v<=1 else 'grey' for i,v in nx.get_edge_attributes(dG, \"weight\").items()}"
      ]
    },
    {
      "cell_type": "code",
      "execution_count": 25,
      "metadata": {
        "id": "qbtUsUGUKoZA"
      },
      "outputs": [],
      "source": [
        "# then\n",
        "colorEdges={i:'magenta' if v<1 else 'grey' for i,v in nx.get_edge_attributes(dG, \"weight\").items()}\n",
        "nx.set_edge_attributes(dG,values=colorEdges,name='color')"
      ]
    },
    {
      "cell_type": "code",
      "execution_count": 26,
      "metadata": {
        "id": "u2wLV05kKoZB"
      },
      "outputs": [
        {
          "data": {
            "text/plain": [
              "OutEdgeDataView([(1, 2, {'weight': 1, 'color': 'grey'}), (1, 3, {'weight': 3, 'color': 'grey'}), (3, 2, {'weight': 5, 'color': 'grey'}), (3, 4, {'weight': 10, 'color': 'grey'}), (4, 3, {'weight': 0.5, 'color': 'magenta'})])"
            ]
          },
          "execution_count": 26,
          "metadata": {},
          "output_type": "execute_result"
        }
      ],
      "source": [
        "# see edges and attributes\n",
        "dG.edges.data()"
      ]
    },
    {
      "cell_type": "markdown",
      "metadata": {
        "id": "KrYJlHhUKoZB"
      },
      "source": [
        "Let's use edge attributes:"
      ]
    },
    {
      "cell_type": "code",
      "execution_count": 27,
      "metadata": {
        "id": "NfgWGCO2KoZB"
      },
      "outputs": [
        {
          "data": {
            "image/png": "[encoded data removed]",
            "text/plain": [
              "<Figure size 640x480 with 1 Axes>"
            ]
          },
          "metadata": {},
          "output_type": "display_data"
        }
      ],
      "source": [
        "# use the edge attributes\n",
        "# add labels to edges\n",
        "\n",
        "pos = nx.spring_layout(dG) # position of the nodes\n",
        "\n",
        "nx.draw(dG,\n",
        "        pos, # using \"position\"\n",
        "        with_labels=True,\n",
        "        node_color=nx.get_node_attributes(dG, \"color\").values())\n",
        "\n",
        "# adding labels\n",
        "final_dG=nx.draw_networkx_edge_labels(dG,pos,edge_labels=nx.get_edge_attributes(dG,'weight'))"
      ]
    },
    {
      "cell_type": "markdown",
      "metadata": {
        "id": "pKzkTRC1KoZC"
      },
      "source": [
        "The color of edges:"
      ]
    },
    {
      "cell_type": "code",
      "execution_count": 28,
      "metadata": {
        "id": "egTNmxdmKoZC"
      },
      "outputs": [
        {
          "data": {
            "text/plain": [
              "dict_values(['grey', 'grey', 'grey', 'grey', 'magenta'])"
            ]
          },
          "execution_count": 28,
          "metadata": {},
          "output_type": "execute_result"
        }
      ],
      "source": [
        "nx.get_edge_attributes(dG,'color').values()"
      ]
    },
    {
      "cell_type": "code",
      "execution_count": 29,
      "metadata": {
        "id": "MBDb5h0bKoZC"
      },
      "outputs": [
        {
          "data": {
            "image/png": "[encoded data removed]",
            "text/plain": [
              "<Figure size 640x480 with 1 Axes>"
            ]
          },
          "metadata": {},
          "output_type": "display_data"
        }
      ],
      "source": [
        "# use the edge attributes\n",
        "# add labels to edges\n",
        "# add color to edges\n",
        "\n",
        "edge_colors=nx.get_edge_attributes(dG,'color').values()\n",
        "node_colors=nx.get_node_attributes(dG,'color').values()\n",
        "weight_values=nx.get_edge_attributes(dG,'weight')\n",
        "pos = nx.circular_layout(dG)\n",
        "\n",
        "# draw nodes first\n",
        "nx.draw_networkx_nodes(dG,pos,\n",
        "                       node_color=node_colors)\n",
        "# draw edges\n",
        "nx.draw_networkx_edges(dG, pos,width=list(weight_values.values()),\n",
        "                       edge_color= edge_colors)\n",
        "# draw node labels\n",
        "nx.draw_networkx_labels(dG, pos)\n",
        "\n",
        "final_dG=nx.draw_networkx_edge_labels(dG,pos,label_pos=0.25,\n",
        "                               edge_labels=weight_values)"
      ]
    },
    {
      "cell_type": "markdown",
      "metadata": {
        "id": "pyfffEHUKoZC"
      },
      "source": [
        "The interactive version needs labels, we don't have them yet:"
      ]
    },
    {
      "cell_type": "code",
      "execution_count": 30,
      "metadata": {
        "id": "vomWZJrPKoZC"
      },
      "outputs": [
        {
          "data": {
            "text/plain": [
              "dict_keys(['sex', 'color'])"
            ]
          },
          "execution_count": 30,
          "metadata": {},
          "output_type": "execute_result"
        }
      ],
      "source": [
        "dG.nodes.data()[1].keys()"
      ]
    },
    {
      "cell_type": "code",
      "execution_count": 31,
      "metadata": {
        "id": "liZM97tzKoZC"
      },
      "outputs": [
        {
          "data": {
            "text/plain": [
              "dict_keys(['weight', 'color'])"
            ]
          },
          "execution_count": 31,
          "metadata": {},
          "output_type": "execute_result"
        }
      ],
      "source": [
        "[i[2].keys() for i in dG.edges.data()][0]"
      ]
    },
    {
      "cell_type": "code",
      "execution_count": 32,
      "metadata": {
        "id": "ZeuBe_wSKoZC"
      },
      "outputs": [],
      "source": [
        "# id as label\n",
        "labels={i:str(i) for i in dG.nodes()}\n",
        "nx.set_node_attributes(dG, labels, \"label\")\n",
        "\n",
        "# weight as label\n",
        "labels={e:str(v) for e,v in nx.get_edge_attributes(dG, \"weight\").items()}\n",
        "nx.set_edge_attributes(dG, labels, \"label\")"
      ]
    },
    {
      "cell_type": "code",
      "execution_count": 33,
      "metadata": {
        "id": "ZNvEtybeKoZC"
      },
      "outputs": [
        {
          "data": {
            "text/plain": [
              "OutEdgeDataView([(1, 2, {'weight': 1, 'color': 'grey', 'label': '1'}), (1, 3, {'weight': 3, 'color': 'grey', 'label': '3'}), (3, 2, {'weight': 5, 'color': 'grey', 'label': '5'}), (3, 4, {'weight': 10, 'color': 'grey', 'label': '10'}), (4, 3, {'weight': 0.5, 'color': 'magenta', 'label': '0.5'})])"
            ]
          },
          "execution_count": 33,
          "metadata": {},
          "output_type": "execute_result"
        }
      ],
      "source": [
        "dG.edges.data()"
      ]
    },
    {
      "cell_type": "code",
      "execution_count": 34,
      "metadata": {
        "id": "kYct7oEkKoZD"
      },
      "outputs": [
        {
          "name": "stdout",
          "output_type": "stream",
          "text": [
            "dGvis.html\n"
          ]
        },
        {
          "data": {
            "text/html": [
              "\n",
              "        <iframe\n",
              "            width=\"500px\"\n",
              "            height=\"500px\"\n",
              "            src=\"dGvis.html\"\n",
              "            frameborder=\"0\"\n",
              "            allowfullscreen\n",
              "            \n",
              "        ></iframe>\n",
              "        "
            ],
            "text/plain": [
              "<IPython.lib.display.IFrame at 0x2b15b2e90a0>"
            ]
          },
          "execution_count": 34,
          "metadata": {},
          "output_type": "execute_result"
        }
      ],
      "source": [
        "dGvis = Network('500px', '500px',notebook=True,cdn_resources='remote',directed=True)\n",
        "dGvis.from_nx(dG.copy())\n",
        "dGvis.show('dGvis.html')"
      ]
    },
    {
      "cell_type": "markdown",
      "metadata": {
        "id": "LtGrFkhkKoZD"
      },
      "source": [
        "### Exporting"
      ]
    },
    {
      "cell_type": "markdown",
      "metadata": {
        "id": "gmlBcF4oKoZE"
      },
      "source": [
        "Network does not recommend its use for complex visualization. So, several times you may want to export your graph to be visualize in Gephi or something similar:"
      ]
    },
    {
      "cell_type": "code",
      "execution_count": 35,
      "metadata": {
        "id": "3Bt93ggYKoZF"
      },
      "outputs": [],
      "source": [
        "nx.write_gml(dG, \"dG.gml\")"
      ]
    },
    {
      "cell_type": "markdown",
      "metadata": {
        "id": "721CnZfJKoZX"
      },
      "source": [
        "# Case: Elites in Peru"
      ]
    },
    {
      "cell_type": "markdown",
      "metadata": {
        "id": "TARNAFSxKoZX"
      },
      "source": [
        "The network we are going to build is based on the relationships studied in this paper:\n",
        "<img src=\"https://github.com/SocialAnalytics-StrategicIntelligence/introGraph/blob/main/graphdata/paper.png?raw=1\" width=\"900\">\n"
      ]
    },
    {
      "cell_type": "markdown",
      "metadata": {
        "id": "aOo8QyIsKoZX"
      },
      "source": [
        "In that paper, Professor Figueroa shows this table, where 1 represents that both nodes (families) appear together at least once in a top company board. Notice the last column is an attribute:"
      ]
    },
    {
      "cell_type": "markdown",
      "metadata": {
        "id": "FEE38Zq-KoZX"
      },
      "source": [
        "<img src=\"https://github.com/SocialAnalytics-StrategicIntelligence/introGraph/blob/main/graphdata/dataRed.png?raw=1\" width=\"900\">"
      ]
    },
    {
      "cell_type": "markdown",
      "metadata": {
        "id": "fV3p83JHKoZX"
      },
      "source": [
        "This is an spreadsheet, representing the information above:"
      ]
    },
    {
      "cell_type": "code",
      "execution_count": null,
      "metadata": {
        "id": "rGpsLPJIKoZY"
      },
      "outputs": [],
      "source": [
        "from IPython.display import IFrame\n",
        "IFrame(\"https://docs.google.com/spreadsheets/d/e/2PACX-1vSd9tPLB5NsbG_S1_yGZSOMpnMKQdvkenQbpG2f4qCOqrvNnge1IOdj7cJ0zbeIIySeusUDqJ5y4KQW/pubhtml?gid=1176178828&single=true\",1200,350)"
      ]
    },
    {
      "cell_type": "markdown",
      "metadata": {
        "id": "o0umyqf5KoZY"
      },
      "source": [
        "Let's use the data from the spreadsheet to prepare our table:"
      ]
    },
    {
      "cell_type": "code",
      "execution_count": null,
      "metadata": {
        "id": "QFdL2QIlKoZY"
      },
      "outputs": [],
      "source": [
        "# reading in\n",
        "import pandas as pd\n",
        "LinkToData=\"https://docs.google.com/spreadsheets/d/e/2PACX-1vSd9tPLB5NsbG_S1_yGZSOMpnMKQdvkenQbpG2f4qCOqrvNnge1IOdj7cJ0zbeIIySeusUDqJ5y4KQW/pub?gid=1176178828&single=true&output=csv\"\n",
        "FigueData = pd.read_csv(LinkToData,\n",
        "                          index_col=0) #notice!!!!!"
      ]
    },
    {
      "cell_type": "markdown",
      "metadata": {
        "id": "M51A2x8uKoZY"
      },
      "source": [
        "We got this:"
      ]
    },
    {
      "cell_type": "code",
      "execution_count": null,
      "metadata": {
        "id": "pZdQY3WjKoZY"
      },
      "outputs": [],
      "source": [
        "FigueData.head()"
      ]
    },
    {
      "cell_type": "markdown",
      "metadata": {
        "id": "YwNJeOPTKoZa"
      },
      "source": [
        "As intended, the family appears as the row index (not the first column of data). The family is also the column names:"
      ]
    },
    {
      "cell_type": "code",
      "execution_count": null,
      "metadata": {
        "id": "cYSfA2JWKoZa"
      },
      "outputs": [],
      "source": [
        "FigueData.columns"
      ]
    },
    {
      "cell_type": "markdown",
      "metadata": {
        "id": "UdBPJCqGKoZa"
      },
      "source": [
        "The **adjacency matrix** does not need the _multinacional_ attribute column, then:"
      ]
    },
    {
      "cell_type": "code",
      "execution_count": null,
      "metadata": {
        "id": "J8rAhatwKoZa"
      },
      "outputs": [],
      "source": [
        "varsToDrop=['Multinacional']\n",
        "adjacency=FigueData.drop(varsToDrop,axis=1)\n",
        "\n",
        "#result\n",
        "adjacency"
      ]
    },
    {
      "cell_type": "markdown",
      "metadata": {
        "id": "nVQh44kQKoZa"
      },
      "source": [
        "It is easy to turn the adjacency matrix into a graph:"
      ]
    },
    {
      "cell_type": "code",
      "execution_count": null,
      "metadata": {
        "id": "XjMUUKWzKoZb"
      },
      "outputs": [],
      "source": [
        "import networkx as nx\n",
        "EliteNet = nx.from_pandas_adjacency(adjacency)"
      ]
    },
    {
      "cell_type": "markdown",
      "metadata": {
        "id": "3BkFVPfLKoZb"
      },
      "source": [
        "Take a look at **EliteNet**:"
      ]
    },
    {
      "cell_type": "code",
      "execution_count": null,
      "metadata": {
        "id": "TM5u17b2KoZb"
      },
      "outputs": [],
      "source": [
        "# plot\n",
        "nx.draw_random(EliteNet,\n",
        "                node_color='yellow',\n",
        "                edge_color='lightblue',\n",
        "                with_labels=True,\n",
        "                font_size=8)"
      ]
    },
    {
      "cell_type": "markdown",
      "metadata": {
        "id": "gwUBW6WlKoZb"
      },
      "source": [
        "The adjacency include the self-relationships, we should take those away:"
      ]
    },
    {
      "cell_type": "code",
      "execution_count": null,
      "metadata": {
        "id": "vXEf-oaDKoZb"
      },
      "outputs": [],
      "source": [
        "EliteNet.remove_edges_from(nx.selfloop_edges(EliteNet))"
      ]
    },
    {
      "cell_type": "code",
      "execution_count": null,
      "metadata": {
        "id": "DKUpVxe4KoZb"
      },
      "outputs": [],
      "source": [
        "# re plot\n",
        "nx.draw_random(EliteNet,\n",
        "                node_color='yellow',\n",
        "                edge_color='lightblue',\n",
        "                with_labels=True,\n",
        "                font_size=8)"
      ]
    },
    {
      "cell_type": "markdown",
      "metadata": {
        "id": "v0MyHTf2KoZb"
      },
      "source": [
        "Let's add the attributes to the nodes:"
      ]
    },
    {
      "cell_type": "code",
      "execution_count": null,
      "metadata": {
        "id": "dIYolpdqKoZc"
      },
      "outputs": [],
      "source": [
        "dict(zip(FigueData.index,FigueData['Multinacional']))"
      ]
    },
    {
      "cell_type": "markdown",
      "metadata": {
        "id": "cz_sYGuZKoZc"
      },
      "source": [
        "Then, I can use that to add an attribute to the node:"
      ]
    },
    {
      "cell_type": "code",
      "execution_count": null,
      "metadata": {
        "id": "9eGyl1MaKoZc"
      },
      "outputs": [],
      "source": [
        "attributeToAdd=dict(zip(FigueData.index,FigueData['Multinacional']))\n",
        "nx.set_node_attributes(EliteNet, attributeToAdd,'multi')"
      ]
    },
    {
      "cell_type": "markdown",
      "metadata": {
        "id": "tYgCt4v5KoZd"
      },
      "source": [
        "Setting color of node:"
      ]
    },
    {
      "cell_type": "code",
      "execution_count": null,
      "metadata": {
        "id": "ZetwfGReKoZd"
      },
      "outputs": [],
      "source": [
        "colors={e:'red' if v==1 else 'green' for e,v in nx.get_node_attributes(EliteNet,\"multi\").items()}\n",
        "nx.set_node_attributes(EliteNet, colors, \"color\")\n",
        "nx.draw_random(EliteNet,node_color=nx.get_node_attributes(EliteNet, \"color\").values())"
      ]
    },
    {
      "cell_type": "markdown",
      "metadata": {
        "id": "S8N4tRrpKoZd"
      },
      "source": [
        "## Exploration"
      ]
    },
    {
      "cell_type": "markdown",
      "metadata": {
        "id": "XnzLSYK3KoZd"
      },
      "source": [
        "There several basic information we should know, specially when a visual exploration gets more complicated. Let's see:\n"
      ]
    },
    {
      "cell_type": "code",
      "execution_count": null,
      "metadata": {
        "id": "rC_nADFkKoZd"
      },
      "outputs": [],
      "source": [
        "# type of network\n",
        "type(EliteNet)"
      ]
    },
    {
      "cell_type": "code",
      "execution_count": null,
      "metadata": {
        "id": "yXGcK0BeKoZe"
      },
      "outputs": [],
      "source": [
        "# nodes , #edges\n",
        "len(EliteNet.nodes),len(EliteNet.edges)"
      ]
    },
    {
      "cell_type": "markdown",
      "metadata": {
        "id": "I_DNb3aFKoZe"
      },
      "source": [
        "<div class=\"alert alert-success\" role=\"alert\">Connectivity</div>"
      ]
    },
    {
      "cell_type": "markdown",
      "metadata": {
        "id": "dnjT7s2LKoZe"
      },
      "source": [
        "It is important to know if any node could contact any other node. If that is the case, the network is **connected**. This Figure shows a network not connected, that is, with several **components**.\n",
        "\n",
        "<img src=\"https://upload.wikimedia.org/wikipedia/commons/thumb/8/85/Pseudoforest.svg/800px-Pseudoforest.svg.png\" style=\"width:30%\"/>\n"
      ]
    },
    {
      "cell_type": "code",
      "execution_count": null,
      "metadata": {
        "id": "6oolnJQpKoZe"
      },
      "outputs": [],
      "source": [
        "# is connected\n",
        "nx.is_connected(EliteNet)"
      ]
    },
    {
      "cell_type": "code",
      "execution_count": null,
      "metadata": {
        "id": "PBL3oAy0KoZf"
      },
      "outputs": [],
      "source": [
        "# how many CC?\n",
        "len(list(nx.connected_components(EliteNet)))"
      ]
    },
    {
      "cell_type": "code",
      "execution_count": null,
      "metadata": {
        "id": "emOQ8fUVKoZf"
      },
      "outputs": [],
      "source": [
        "# how many in each?\n",
        "[len(c) for c in sorted(nx.connected_components(EliteNet), key=len, reverse=True)]"
      ]
    },
    {
      "cell_type": "markdown",
      "metadata": {
        "id": "GQtGyJ44KoZf"
      },
      "source": [
        "As it can be seen, there are isolates (CC of size ONE):"
      ]
    },
    {
      "cell_type": "code",
      "execution_count": null,
      "metadata": {
        "id": "U-uoQTVwKoZf"
      },
      "outputs": [],
      "source": [
        "# any isolates?\n",
        "list(nx.isolates(EliteNet))"
      ]
    },
    {
      "cell_type": "markdown",
      "metadata": {
        "id": "o5FjysmxKoZf"
      },
      "source": [
        "<div class=\"alert alert-success\" role=\"alert\">Distance\n",
        "</div>"
      ]
    },
    {
      "cell_type": "markdown",
      "metadata": {
        "id": "lZVW5lj7KoZg"
      },
      "source": [
        "The **distance** is the amount of _edges_ one node is apart from another. As there might be more than one path between two nodes, the **geodesic** is the shortest distance between them. Then, the **diameter** is the geodesic between the two nodes farthest apart in the graph.\n",
        "\n",
        "<img src=\"https://github.com/MAGALLANESJoseManuel/MGPIT_Pol748_Redes_2/raw/main/picsForSession/diameter.png\" style=\"width:70%\">"
      ]
    },
    {
      "cell_type": "markdown",
      "metadata": {
        "id": "5Q0kGyMrKoZg"
      },
      "source": [
        "Those are concepts applied to connected graphs!"
      ]
    },
    {
      "cell_type": "code",
      "execution_count": null,
      "metadata": {
        "id": "VZRg4runKoZg"
      },
      "outputs": [],
      "source": [
        "# nx.diameter(EliteNet)"
      ]
    },
    {
      "cell_type": "code",
      "execution_count": null,
      "metadata": {
        "id": "2ArnjKizKoZg"
      },
      "outputs": [],
      "source": [
        "#just for the largest component\n",
        "largest_cc_nodes = max(nx.connected_components(EliteNet), key=len)\n",
        "EliteNet_largest=EliteNet.subgraph(largest_cc_nodes)\n",
        "\n",
        "nx.diameter(EliteNet_largest)"
      ]
    },
    {
      "cell_type": "markdown",
      "metadata": {
        "id": "1MAGtonuKoZh"
      },
      "source": [
        "You can compute all the geodesics:"
      ]
    },
    {
      "cell_type": "code",
      "execution_count": null,
      "metadata": {
        "id": "nmSqNeoQKoZh"
      },
      "outputs": [],
      "source": [
        "# geodesics\n",
        "geodesics = dict(nx.all_pairs_shortest_path_length(EliteNet))\n",
        "\n",
        "# as matrix\n",
        "MatrixGeo = [[geodesics.get(n,{}).get(m)  for m in EliteNet.nodes] for n in EliteNet.nodes]\n",
        "\n",
        "# as DF (pandas)\n",
        "MatrixGeo_DF=pd.DataFrame(MatrixGeo,index=EliteNet.nodes, columns=EliteNet.nodes)\n",
        "\n",
        "# we get\n",
        "MatrixGeo_DF"
      ]
    },
    {
      "cell_type": "code",
      "execution_count": null,
      "metadata": {
        "id": "um_S4gC1KoZh"
      },
      "outputs": [],
      "source": [
        "# a frequency table of the geodesics\n",
        "import numpy as np\n",
        "\n",
        "pd.DataFrame(np.unique(MatrixGeo_DF.values, return_counts=True),index=['valor','freq']).T.set_index('valor')"
      ]
    },
    {
      "cell_type": "markdown",
      "metadata": {
        "id": "j19l71nLKoZi"
      },
      "source": [
        "If we have the geodesics matrix, it is then easy to compute the **reachability matrix**:"
      ]
    },
    {
      "cell_type": "code",
      "execution_count": null,
      "metadata": {
        "id": "Mt-iLbdEKoZi"
      },
      "outputs": [],
      "source": [
        "MatrixReach_DF=(MatrixGeo_DF>0).replace({True:1,False:0})\n",
        "MatrixReach_DF"
      ]
    },
    {
      "cell_type": "code",
      "execution_count": null,
      "metadata": {
        "id": "BHZSZoJQKoZj"
      },
      "outputs": [],
      "source": [
        "# connectedness\n",
        "nNodes=len(EliteNet.nodes)\n",
        "MatrixReach_DF.sum().sum()/(nNodes*(nNodes-1))"
      ]
    },
    {
      "cell_type": "markdown",
      "metadata": {
        "id": "kSl6HW3jKoZj"
      },
      "source": [
        "Let's work with the largest component:"
      ]
    },
    {
      "cell_type": "code",
      "execution_count": null,
      "metadata": {
        "id": "bT-mSLBsKoZj"
      },
      "outputs": [],
      "source": [
        "# geodesics\n",
        "geodesics_Lcc = dict(nx.all_pairs_shortest_path_length(EliteNet_largest))\n",
        "\n",
        "# as matrix\n",
        "MatrixGeo_Lcc = [[geodesics_Lcc.get(n,{}).get(m)  for m in EliteNet_largest.nodes] for n in EliteNet_largest.nodes]\n",
        "\n",
        "# as DF (pandas)\n",
        "MatrixGeo_DF_Lcc=pd.DataFrame(MatrixGeo_Lcc,index=EliteNet_largest.nodes, columns=EliteNet_largest.nodes)\n",
        "\n",
        "# we get\n",
        "MatrixGeo_DF_Lcc"
      ]
    },
    {
      "cell_type": "code",
      "execution_count": null,
      "metadata": {
        "id": "54xtALEbKoZk"
      },
      "outputs": [],
      "source": [
        "# reachability\n",
        "MatrixReach_DF_Lcc=(MatrixGeo_DF_Lcc>0).replace({True:1,False:0})\n",
        "MatrixReach_DF_Lcc"
      ]
    },
    {
      "cell_type": "code",
      "execution_count": null,
      "metadata": {
        "id": "eU346RVbKoZk"
      },
      "outputs": [],
      "source": [
        "# connectedness\n",
        "nNodes=len(EliteNet_largest.nodes)\n",
        "MatrixReach_DF_Lcc.sum().sum()/(nNodes*(nNodes-1))"
      ]
    },
    {
      "cell_type": "markdown",
      "metadata": {
        "id": "DvIHnvrWKoZk"
      },
      "source": [
        "<div class=\"alert alert-success\" role=\"alert\">Density </div>\n",
        "\n",
        "\n",
        "The **Density** let's you know how close is the network to be completely connected.\n",
        "\n",
        "<img src=\"https://github.com/MAGALLANESJoseManuel/MGPIT_Pol748_Redes_2/raw/main/picsForSession/density.png\" style=\"width:70%\">"
      ]
    },
    {
      "cell_type": "code",
      "execution_count": null,
      "metadata": {
        "id": "x6b6Ae17KoZk"
      },
      "outputs": [],
      "source": [
        "# for our case:\n",
        "nx.density(EliteNet_largest)"
      ]
    },
    {
      "cell_type": "markdown",
      "metadata": {
        "id": "I1jbS1S4KoZk"
      },
      "source": [
        "Keep in mind the relationship between density and reachability:\n",
        "\n",
        "<img src=\"https://github.com/MAGALLANESJoseManuel/MGPIT_Pol748_Redes_2/raw/main/picsForSession/reachability-and-density.png\" style=\"width:70%\">"
      ]
    },
    {
      "cell_type": "markdown",
      "metadata": {
        "id": "BZG6-1wLKoZl"
      },
      "source": [
        "<div class=\"alert alert-success\" role=\"alert\">Node Centrality </div>\n",
        "\n",
        "\n",
        "<img src=\"https://github.com/MAGALLANESJoseManuel/MGPIT_Pol748_Redes_2/raw/main/picsForSession/centrality.png\" style=\"width:70%\">"
      ]
    },
    {
      "cell_type": "markdown",
      "metadata": {
        "id": "VDe9VFZPKoZl"
      },
      "source": [
        "Let's compute these measures:"
      ]
    },
    {
      "cell_type": "code",
      "execution_count": null,
      "metadata": {
        "id": "P4uvMHEQKoZl"
      },
      "outputs": [],
      "source": [
        "actorMeasures=pd.concat([pd.DataFrame.from_dict(nx.degree_centrality(EliteNet_largest),\n",
        "                                  orient='index',\n",
        "                                  columns=['Degree']),\n",
        "           pd.DataFrame.from_dict(nx.closeness_centrality(EliteNet_largest),\n",
        "                                  orient='index',\n",
        "                                  columns=['Closeness']),\n",
        "           pd.DataFrame.from_dict(nx.betweenness_centrality(EliteNet_largest),\n",
        "                                  orient='index',\n",
        "                                  columns=['Betweenness'])],axis=1)\n",
        "## data\n",
        "actorMeasures"
      ]
    },
    {
      "cell_type": "markdown",
      "metadata": {
        "id": "g5QBwgEnKoZl"
      },
      "source": [
        "Visual representation:"
      ]
    },
    {
      "cell_type": "code",
      "execution_count": null,
      "metadata": {
        "id": "JId0FXL-KoZl"
      },
      "outputs": [],
      "source": [
        "import matplotlib.pyplot as plt\n",
        "\n",
        "fig, ax = plt.subplots(figsize=(10,10))\n",
        "\n",
        "ax.scatter(actorMeasures.Closeness, actorMeasures.Degree,s=1000*actorMeasures.Betweenness,\n",
        "           c=100*actorMeasures.Betweenness,\n",
        "           cmap=plt.get_cmap('YlOrRd'), alpha=0.6)\n",
        "\n",
        "valsForAnnotate=zip(actorMeasures.index,actorMeasures.Closeness,actorMeasures.Degree)\n",
        "for name,coordX,coordY in valsForAnnotate:\n",
        "    ax.annotate(name, (coordX,coordY),alpha=0.5)\n",
        "\n",
        "plt.title(\"Centrality  (size and  color for Betweenness)\", y=-0.1)\n",
        "plt.xlabel(\"Closeness\")\n",
        "plt.ylabel(\"Degree\")\n",
        "plt.show()"
      ]
    },
    {
      "cell_type": "markdown",
      "metadata": {
        "id": "nuGcscJqKoZl"
      },
      "source": [
        "# Case: Top Seattle\n",
        "\n",
        "I found a webpage about top people in Seattle:"
      ]
    },
    {
      "cell_type": "code",
      "execution_count": null,
      "metadata": {
        "id": "nrQTzUuxKoZm"
      },
      "outputs": [],
      "source": [
        "from IPython.display import IFrame\n",
        "IFrame('https://www.builtinseattle.com/2018/08/06/50-seattle-tech-twitter-accounts-to-follow', 800, 350)"
      ]
    },
    {
      "cell_type": "markdown",
      "metadata": {
        "id": "8h49Ob_bKoZm"
      },
      "source": [
        "We have the network as **edgelist**:"
      ]
    },
    {
      "cell_type": "code",
      "execution_count": null,
      "metadata": {
        "id": "Lv-ez8RYKoZm"
      },
      "outputs": [],
      "source": [
        "IFrame('https://docs.google.com/spreadsheets/d/e/2PACX-1vQVt6mWtTfzTKgjwtfbWogongjhVLSK1A1hQPsJMuYWnZqebdkkAjTwhRGBSih2ZxK_PT-dEbJ-UNMG/pubhtml', 800, 350)"
      ]
    },
    {
      "cell_type": "markdown",
      "metadata": {
        "id": "zIGOZGgyKoZn"
      },
      "source": [
        "Creating from edgelist:"
      ]
    },
    {
      "cell_type": "code",
      "execution_count": null,
      "metadata": {
        "id": "n2hGEelgKoZn"
      },
      "outputs": [],
      "source": [
        "\n",
        "# link a GoogleDrive como un Excel\n",
        "linkGoogle=\"https://docs.google.com/spreadsheets/d/e/2PACX-1vQVt6mWtTfzTKgjwtfbWogongjhVLSK1A1hQPsJMuYWnZqebdkkAjTwhRGBSih2ZxK_PT-dEbJ-UNMG/pub?output=xlsx\"\n",
        "\n",
        "# leyendo archivo de red\n",
        "edges=pd.read_excel(linkGoogle,\n",
        "                        sheet_name='edges') # la tabla tiene este nombre\n",
        "\n",
        "# creando red dirigida\n",
        "Seattle= nx.from_pandas_edgelist(edges, edge_attr=True,create_using=nx.DiGraph)"
      ]
    },
    {
      "cell_type": "code",
      "execution_count": null,
      "metadata": {
        "id": "QvMtyWlqKoZn"
      },
      "outputs": [],
      "source": [
        "len(Seattle.edges())"
      ]
    },
    {
      "cell_type": "code",
      "execution_count": null,
      "metadata": {
        "id": "zdLeiK0TKoZn"
      },
      "outputs": [],
      "source": [
        "type(Seattle)"
      ]
    },
    {
      "cell_type": "markdown",
      "metadata": {
        "id": "ASb1Ox6hKoZo"
      },
      "source": [
        "In directed networks, we want to know if nodes are strongly connected:\n",
        "\n",
        "<img src=\"https://github.com/MAGALLANESJoseManuel/MGPIT_Pol748_Redes_2/raw/main/picsForSession/strongly_connected.png\" style=\"width:70%\">"
      ]
    },
    {
      "cell_type": "code",
      "execution_count": null,
      "metadata": {
        "id": "9XYqqFDSKoZo"
      },
      "outputs": [],
      "source": [
        "# is connected\n",
        "nx.is_strongly_connected(Seattle)"
      ]
    },
    {
      "cell_type": "markdown",
      "metadata": {
        "id": "YgS7RiNXKoZo"
      },
      "source": [
        "Since you have a directed network, the reachability analysis may include **reciprocity**:"
      ]
    },
    {
      "cell_type": "code",
      "execution_count": null,
      "metadata": {
        "id": "G5aqxg5FKoZp"
      },
      "outputs": [],
      "source": [
        "nx.overall_reciprocity(Seattle)"
      ]
    },
    {
      "cell_type": "markdown",
      "metadata": {
        "id": "eRr0DPnrKoZp"
      },
      "source": [
        "You can compute it for every node:"
      ]
    },
    {
      "cell_type": "code",
      "execution_count": null,
      "metadata": {
        "id": "aGMJaN8MKoZp"
      },
      "outputs": [],
      "source": [
        "pd.DataFrame.from_dict(nx.reciprocity(Seattle,nodes=Seattle.nodes),orient='index').sort_values(0,ascending=False)"
      ]
    },
    {
      "cell_type": "markdown",
      "metadata": {
        "id": "33WMGUshKoZ9"
      },
      "source": [
        "Also, there are differences in centrality (in / out):"
      ]
    },
    {
      "cell_type": "code",
      "execution_count": null,
      "metadata": {
        "id": "FjJ4JbzdKoZ-"
      },
      "outputs": [],
      "source": [
        "SeattleMeasures=pd.concat([pd.DataFrame.from_dict(nx.out_degree_centrality(Seattle),\n",
        "                                  orient='index',\n",
        "                                  columns=['OutDegree']),\n",
        "           pd.DataFrame.from_dict(nx.in_degree_centrality(Seattle),\n",
        "                                  orient='index',\n",
        "                                  columns=['InDegree']),\n",
        "           pd.DataFrame.from_dict(nx.closeness_centrality(Seattle.reverse()),\n",
        "                                  orient='index',\n",
        "                                  columns=['OutCloseness']),\n",
        "           pd.DataFrame.from_dict(nx.closeness_centrality(Seattle),\n",
        "                                  orient='index',\n",
        "                                  columns=['InCloseness']),\n",
        "           pd.DataFrame.from_dict(nx.betweenness_centrality(Seattle),\n",
        "                                  orient='index',\n",
        "                                  columns=['Betweenness'])],axis=1)\n",
        "## data\n",
        "SeattleMeasures"
      ]
    },
    {
      "cell_type": "markdown",
      "metadata": {
        "id": "sTFp0Lq3KoZ-"
      },
      "source": [
        "Also, **LINK-BASED** analysis is possible in directed networks,\n",
        "\n",
        "* HITS (from \"https://www.linkedin.com/pulse/hits-hubs-authorities-manish-patel/\")\n",
        "\n",
        "\n",
        "<img src=\"https://media.licdn.com/dms/image/C4E12AQHfIG5Dg1gODQ/article-cover_image-shrink_600_2000/0/1600668840613?e=2147483647&v=beta&t=q1GJ5oFlUaEastM3LotXAhrh972wjiMdUv0LtkVpkss\" style=\"width:50%\">\n",
        "\n",
        "* PAGERANK (from \"https://medium.com/analytics-vidhya/how-google-search-works-page-rank-algorithm-using-python-9643d9c9a981\")\n",
        "\n",
        "  \n",
        "\n",
        "  <img src=\"https://miro.medium.com/v2/resize:fit:800/0*S8x3TYd5ApMb7CuO.jpg\" style=\"width:50%\">"
      ]
    },
    {
      "cell_type": "code",
      "execution_count": null,
      "metadata": {
        "id": "Kmzj0tG5KoZ-"
      },
      "outputs": [],
      "source": [
        "h_dict,a_dict=nx.hits(Seattle)\n",
        "pagerank_dict=nx.pagerank(Seattle)\n",
        "\n",
        "HITS_hubs=pd.Series(h_dict,name='HITS_hubs')\n",
        "HITS_authorities=pd.Series(a_dict,name=\"HITS_authorities\")\n",
        "Pagerank=pd.Series(pagerank_dict,name='Pagerank')\n",
        "\n",
        "pd.concat([HITS_hubs,HITS_authorities,Pagerank],axis=1)"
      ]
    },
    {
      "cell_type": "markdown",
      "metadata": {
        "id": "XFOlcLjCKoZ-"
      },
      "source": [
        "# Case: Trade among countries"
      ]
    },
    {
      "cell_type": "markdown",
      "metadata": {
        "id": "gIn7xxW_KoZ-"
      },
      "source": [
        "Let me use some information about trade among countries from the [World Bank](https://wits.worldbank.org/gptad/library.aspx):"
      ]
    },
    {
      "cell_type": "code",
      "execution_count": null,
      "metadata": {
        "id": "n5Yz85KfKoZ_"
      },
      "outputs": [],
      "source": [
        "url = \"https://wits.worldbank.org/gptad/library.aspx\"\n",
        "from IPython.display import IFrame\n",
        "IFrame(url, 900,500)"
      ]
    },
    {
      "cell_type": "markdown",
      "metadata": {
        "id": "8T7E43bcKoZ_"
      },
      "source": [
        "I have previously pre processed the data. Let me open the file with _inforce_ agreements:"
      ]
    },
    {
      "cell_type": "code",
      "execution_count": null,
      "metadata": {
        "id": "wICzpDwuKoZ_"
      },
      "outputs": [],
      "source": [
        "import pandas as pd\n",
        "tradeDF=pd.read_pickle(\"https://github.com/SocialAnalytics-StrategicIntelligence/introGraph/raw/refs/heads/main/graphdata/tradeData_forGraph.pkl\")\n",
        "tradeDF.info()"
      ]
    },
    {
      "cell_type": "markdown",
      "metadata": {
        "id": "yr7zSz3yKoZ_"
      },
      "source": [
        "The _Common Name_ is the name of the agreement. All countris involved are in a list (_Memembership_list_):"
      ]
    },
    {
      "cell_type": "code",
      "execution_count": null,
      "metadata": {
        "id": "wTAngKd2KoZ_"
      },
      "outputs": [],
      "source": [
        "tradeDF.head()"
      ]
    },
    {
      "cell_type": "markdown",
      "metadata": {
        "id": "lE4y5RX0KoaA"
      },
      "source": [
        "Let me check the type of agreements we have in the data."
      ]
    },
    {
      "cell_type": "code",
      "execution_count": null,
      "metadata": {
        "id": "eC_zHq2KKoaA"
      },
      "outputs": [],
      "source": [
        "tradeDF.Type.value_counts()"
      ]
    },
    {
      "cell_type": "markdown",
      "metadata": {
        "id": "CuN-jptdKoaA"
      },
      "source": [
        "Let me choose the 'Framework Agreement':"
      ]
    },
    {
      "cell_type": "code",
      "execution_count": null,
      "metadata": {
        "id": "axMEDoNCKoaA"
      },
      "outputs": [],
      "source": [
        "tradeDF.loc[tradeDF.Type=='Framework Agreement',:]"
      ]
    },
    {
      "cell_type": "markdown",
      "metadata": {
        "id": "r8OttVBFKoaA"
      },
      "source": [
        "I can make a network of countries. Let me create \"edges\" using **Membership_list**. First, let me show you how **combinations** work:"
      ]
    },
    {
      "cell_type": "code",
      "execution_count": null,
      "metadata": {
        "id": "XCLNgCwNKoaA"
      },
      "outputs": [],
      "source": [
        "from itertools import combinations\n",
        "\n",
        "[x for x in combinations(['chile','ecuador','peru'],2)]"
      ]
    },
    {
      "cell_type": "code",
      "execution_count": null,
      "metadata": {
        "id": "ZxGL5pKKKoaA"
      },
      "outputs": [],
      "source": [
        "[x for x in combinations(['peru','ecuador','chile'],2)]"
      ]
    },
    {
      "cell_type": "code",
      "execution_count": null,
      "metadata": {
        "id": "BBJCV3o8KoaB"
      },
      "outputs": [],
      "source": [
        "[x for x in combinations(sorted(['peru','ecuador','chile']),2)]"
      ]
    },
    {
      "cell_type": "code",
      "execution_count": null,
      "metadata": {
        "id": "v_0AhEKNKoaB"
      },
      "outputs": [],
      "source": [
        "# all the pairs\n",
        "list(combinations(sorted(tradeDF.loc[162,'Membership_list']), 2))"
      ]
    },
    {
      "cell_type": "markdown",
      "metadata": {
        "id": "8JHxs3EOKoaB"
      },
      "source": [
        "All the pairs above represent nodes and edges, then:"
      ]
    },
    {
      "cell_type": "code",
      "execution_count": null,
      "metadata": {
        "id": "ZalZqnOqKoaB"
      },
      "outputs": [],
      "source": [
        "import networkx as nx\n",
        "\n",
        "Framework_Agreement_Net = nx.Graph(combinations(sorted(tradeDF.loc[162,'Membership_list']), 2))"
      ]
    },
    {
      "cell_type": "code",
      "execution_count": null,
      "metadata": {
        "id": "f3ZwAcxzKoaB"
      },
      "outputs": [],
      "source": [
        "# see edges\n",
        "Framework_Agreement_Net.edges()"
      ]
    },
    {
      "cell_type": "code",
      "execution_count": null,
      "metadata": {
        "id": "imDjuTKgKoaB"
      },
      "outputs": [],
      "source": [
        "#draw the graph\n",
        "nx.draw(Framework_Agreement_Net, with_labels=True)"
      ]
    },
    {
      "cell_type": "markdown",
      "metadata": {
        "id": "dsosyNyWKoaB"
      },
      "source": [
        "Let me explore the other types:"
      ]
    },
    {
      "cell_type": "code",
      "execution_count": null,
      "metadata": {
        "id": "aI6r68b7KoaB"
      },
      "outputs": [],
      "source": [
        "tradeDF.loc[tradeDF.Type=='Customs Union Accession Agreement',:]"
      ]
    },
    {
      "cell_type": "code",
      "execution_count": null,
      "metadata": {
        "id": "Y-ckSREvKoaB"
      },
      "outputs": [],
      "source": [
        "Accession_Agreement_Net_1973 = nx.Graph(combinations(sorted(tradeDF.loc[72,'Membership_list']), 2))\n",
        "nx.draw(Accession_Agreement_Net_1973, with_labels=True)"
      ]
    },
    {
      "cell_type": "code",
      "execution_count": null,
      "metadata": {
        "id": "utdgC7EcKoaB"
      },
      "outputs": [],
      "source": [
        "Accession_Agreement_Net_2007 = nx.Graph(combinations(sorted(tradeDF.loc[71,'Membership_list']), 2))\n",
        "nx.draw(Accession_Agreement_Net_2007, with_labels=True)"
      ]
    },
    {
      "cell_type": "markdown",
      "metadata": {
        "id": "rls3_aC5KoaD"
      },
      "source": [
        "Let´s see this other type, but only after the year 2000:"
      ]
    },
    {
      "cell_type": "code",
      "execution_count": null,
      "metadata": {
        "id": "8KORHAEFKoaD"
      },
      "outputs": [],
      "source": [
        "tradeDF[(tradeDF.Type=='Regional/Plurilateral Free Trade Agreement') & (tradeDF.year_inforce_ok>2000)]"
      ]
    },
    {
      "cell_type": "markdown",
      "metadata": {
        "id": "QBGAJL9HKoaD"
      },
      "source": [
        "Let´s keep the countries per row:"
      ]
    },
    {
      "cell_type": "code",
      "execution_count": null,
      "metadata": {
        "id": "nnJD8TtbKoaD"
      },
      "outputs": [],
      "source": [
        "RFTA_countryLists=tradeDF[(tradeDF.Type=='Regional/Plurilateral Free Trade Agreement') & (tradeDF.year_inforce_ok>2000)]['Membership_list']\n",
        "RFTA_countryLists"
      ]
    },
    {
      "cell_type": "code",
      "execution_count": null,
      "metadata": {
        "id": "03GXDGS5KoaE"
      },
      "outputs": [],
      "source": [
        "listOfTuples=[]\n",
        "for listOfMembers in RFTA_countryLists:\n",
        "    for country1, country2 in combinations(sorted(listOfMembers),2):\n",
        "        listOfTuples.append((country1, country2))\n",
        "\n",
        "# see\n",
        "listOfTuples"
      ]
    },
    {
      "cell_type": "markdown",
      "metadata": {
        "id": "zCJUd7G8KoaE"
      },
      "source": [
        "Let's count each time a tuple happens:"
      ]
    },
    {
      "cell_type": "code",
      "execution_count": null,
      "metadata": {
        "id": "LWiR2KrBKoaE"
      },
      "outputs": [],
      "source": [
        "pd.Series(listOfTuples).value_counts().reset_index()"
      ]
    },
    {
      "cell_type": "markdown",
      "metadata": {
        "id": "5wE28BUTKoaE"
      },
      "source": [
        "We can prepare a dataframe:"
      ]
    },
    {
      "cell_type": "code",
      "execution_count": null,
      "metadata": {
        "id": "N49lU9OAKoaE"
      },
      "outputs": [],
      "source": [
        "newNames={'index':'countryTuple',\t'count':'weight'}\n",
        "tuplesAndWeights=pd.DataFrame(pd.Series(listOfTuples).value_counts()).reset_index(drop=False).rename(columns=newNames)\n",
        "tuplesAndWeights"
      ]
    },
    {
      "cell_type": "markdown",
      "metadata": {
        "id": "455tNlihKoaE"
      },
      "source": [
        "Let's create separate columns:"
      ]
    },
    {
      "cell_type": "code",
      "execution_count": null,
      "metadata": {
        "id": "sZ2jZP_IKoaE"
      },
      "outputs": [],
      "source": [
        "tuplesAndWeights[['country1','country2']]=tuplesAndWeights['countryTuple'].to_list()\n",
        "tuplesAndWeights"
      ]
    },
    {
      "cell_type": "code",
      "execution_count": null,
      "metadata": {
        "id": "aOQSxdwKKoaE"
      },
      "outputs": [],
      "source": [
        "RFTA_net=nx.from_pandas_edgelist(tuplesAndWeights, source='country1',target='country2',edge_attr=[\"weight\"])"
      ]
    },
    {
      "cell_type": "code",
      "execution_count": null,
      "metadata": {
        "id": "fGKHTuTUKoaE"
      },
      "outputs": [],
      "source": [
        "RFTA_net.edges.data()"
      ]
    },
    {
      "cell_type": "code",
      "execution_count": null,
      "metadata": {
        "id": "fcgFS0muKoaE"
      },
      "outputs": [],
      "source": [
        "nx.draw(RFTA_net)"
      ]
    },
    {
      "cell_type": "code",
      "execution_count": null,
      "metadata": {
        "id": "6CtZupyCKoaF"
      },
      "outputs": [],
      "source": [
        "len(RFTA_net.nodes()),len(RFTA_net.edges())"
      ]
    },
    {
      "cell_type": "markdown",
      "metadata": {
        "id": "Xy21gC36KoaF"
      },
      "source": [
        "We are not supposed to have isolates:"
      ]
    },
    {
      "cell_type": "code",
      "execution_count": null,
      "metadata": {
        "id": "STgeQ9mzKoaF"
      },
      "outputs": [],
      "source": [
        "list(nx.isolates(RFTA_net))"
      ]
    },
    {
      "cell_type": "markdown",
      "metadata": {
        "id": "UV01htRdKoaF"
      },
      "source": [
        "There should not be self loops:"
      ]
    },
    {
      "cell_type": "code",
      "execution_count": null,
      "metadata": {
        "id": "pvY6iIQHKoaF"
      },
      "outputs": [],
      "source": [
        "nx.number_of_selfloops(RFTA_net)\n",
        "# RFTA_net.remove_edges_from(nx.selfloop_edges(RFTA_net))"
      ]
    }
  ],
  "metadata": {
    "colab": {
      "provenance": []
    },
    "hide_input": false,
    "kernelspec": {
      "display_name": "Python 3 (ipykernel)",
      "language": "python",
      "name": "python3"
    },
    "language_info": {
      "codemirror_mode": {
        "name": "ipython",
        "version": 3
      },
      "file_extension": ".py",
      "mimetype": "text/x-python",
      "name": "python",
      "nbconvert_exporter": "python",
      "pygments_lexer": "ipython3",
      "version": "3.12.5"
    }
  },
  "nbformat": 4,
  "nbformat_minor": 0
}
